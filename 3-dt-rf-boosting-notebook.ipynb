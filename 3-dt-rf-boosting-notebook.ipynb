{
 "cells": [
  {
   "cell_type": "markdown",
   "metadata": {},
   "source": [
    "\n",
    "# Training a Decision Tree or a Random Forest on a classification problem, and compare the latter with using adaBoost\n",
    "\n",
    "**Author: Pr Fabien MOUTARDE, Center for Robotics, MINES Paris, PSL Université**\n"
   ]
  },
  {
   "cell_type": "markdown",
   "metadata": {},
   "source": [
    "## 1. Decision Trees with SciKit-Learn on a very simple dataset\n",
    "\n",
    "**We will first work on very simple classic dataset: Iris, which is a classification problem corresponding to determination of iris flower sub-species based on a few geometric characteristics of the flower.**\n",
    "\n",
    "**Please FIRST READ the [*Iris DATASET DESCRIPTION*](http://scikit-learn.org/stable/auto_examples/datasets/plot_iris_dataset.html#sphx-glr-auto-examples-datasets-plot-iris-dataset-py).**\n",
    "In this classification problem, there are 3 classes, with a total of 150 examples (each one with 4 input). Please **now execute code cell below to load and view the dataset**.\n"
   ]
  },
  {
   "cell_type": "code",
   "execution_count": 1,
   "metadata": {},
   "outputs": [
    {
     "name": "stdout",
     "output_type": "stream",
     "text": [
      "(Number_of_examples, example_size) =  (150, 4) \n",
      "\n",
      "Input =  [5.1 3.5 1.4 0.2]  , Label =  0\n",
      "Input =  [4.9 3.  1.4 0.2]  , Label =  0\n",
      "Input =  [4.7 3.2 1.3 0.2]  , Label =  0\n",
      "Input =  [4.6 3.1 1.5 0.2]  , Label =  0\n",
      "Input =  [5.  3.6 1.4 0.2]  , Label =  0\n",
      "Input =  [5.4 3.9 1.7 0.4]  , Label =  0\n",
      "Input =  [4.6 3.4 1.4 0.3]  , Label =  0\n",
      "Input =  [5.  3.4 1.5 0.2]  , Label =  0\n",
      "Input =  [4.4 2.9 1.4 0.2]  , Label =  0\n",
      "Input =  [4.9 3.1 1.5 0.1]  , Label =  0\n",
      "Input =  [5.4 3.7 1.5 0.2]  , Label =  0\n",
      "Input =  [4.8 3.4 1.6 0.2]  , Label =  0\n",
      "Input =  [4.8 3.  1.4 0.1]  , Label =  0\n",
      "Input =  [4.3 3.  1.1 0.1]  , Label =  0\n",
      "Input =  [5.8 4.  1.2 0.2]  , Label =  0\n",
      "Input =  [5.7 4.4 1.5 0.4]  , Label =  0\n",
      "Input =  [5.4 3.9 1.3 0.4]  , Label =  0\n",
      "Input =  [5.1 3.5 1.4 0.3]  , Label =  0\n",
      "Input =  [5.7 3.8 1.7 0.3]  , Label =  0\n",
      "Input =  [5.1 3.8 1.5 0.3]  , Label =  0\n",
      "Input =  [5.4 3.4 1.7 0.2]  , Label =  0\n",
      "Input =  [5.1 3.7 1.5 0.4]  , Label =  0\n",
      "Input =  [4.6 3.6 1.  0.2]  , Label =  0\n",
      "Input =  [5.1 3.3 1.7 0.5]  , Label =  0\n",
      "Input =  [4.8 3.4 1.9 0.2]  , Label =  0\n",
      "Input =  [5.  3.  1.6 0.2]  , Label =  0\n",
      "Input =  [5.  3.4 1.6 0.4]  , Label =  0\n",
      "Input =  [5.2 3.5 1.5 0.2]  , Label =  0\n",
      "Input =  [5.2 3.4 1.4 0.2]  , Label =  0\n",
      "Input =  [4.7 3.2 1.6 0.2]  , Label =  0\n",
      "Input =  [4.8 3.1 1.6 0.2]  , Label =  0\n",
      "Input =  [5.4 3.4 1.5 0.4]  , Label =  0\n",
      "Input =  [5.2 4.1 1.5 0.1]  , Label =  0\n",
      "Input =  [5.5 4.2 1.4 0.2]  , Label =  0\n",
      "Input =  [4.9 3.1 1.5 0.2]  , Label =  0\n",
      "Input =  [5.  3.2 1.2 0.2]  , Label =  0\n",
      "Input =  [5.5 3.5 1.3 0.2]  , Label =  0\n",
      "Input =  [4.9 3.6 1.4 0.1]  , Label =  0\n",
      "Input =  [4.4 3.  1.3 0.2]  , Label =  0\n",
      "Input =  [5.1 3.4 1.5 0.2]  , Label =  0\n",
      "Input =  [5.  3.5 1.3 0.3]  , Label =  0\n",
      "Input =  [4.5 2.3 1.3 0.3]  , Label =  0\n",
      "Input =  [4.4 3.2 1.3 0.2]  , Label =  0\n",
      "Input =  [5.  3.5 1.6 0.6]  , Label =  0\n",
      "Input =  [5.1 3.8 1.9 0.4]  , Label =  0\n",
      "Input =  [4.8 3.  1.4 0.3]  , Label =  0\n",
      "Input =  [5.1 3.8 1.6 0.2]  , Label =  0\n",
      "Input =  [4.6 3.2 1.4 0.2]  , Label =  0\n",
      "Input =  [5.3 3.7 1.5 0.2]  , Label =  0\n",
      "Input =  [5.  3.3 1.4 0.2]  , Label =  0\n",
      "Input =  [7.  3.2 4.7 1.4]  , Label =  1\n",
      "Input =  [6.4 3.2 4.5 1.5]  , Label =  1\n",
      "Input =  [6.9 3.1 4.9 1.5]  , Label =  1\n",
      "Input =  [5.5 2.3 4.  1.3]  , Label =  1\n",
      "Input =  [6.5 2.8 4.6 1.5]  , Label =  1\n",
      "Input =  [5.7 2.8 4.5 1.3]  , Label =  1\n",
      "Input =  [6.3 3.3 4.7 1.6]  , Label =  1\n",
      "Input =  [4.9 2.4 3.3 1. ]  , Label =  1\n",
      "Input =  [6.6 2.9 4.6 1.3]  , Label =  1\n",
      "Input =  [5.2 2.7 3.9 1.4]  , Label =  1\n",
      "Input =  [5.  2.  3.5 1. ]  , Label =  1\n",
      "Input =  [5.9 3.  4.2 1.5]  , Label =  1\n",
      "Input =  [6.  2.2 4.  1. ]  , Label =  1\n",
      "Input =  [6.1 2.9 4.7 1.4]  , Label =  1\n",
      "Input =  [5.6 2.9 3.6 1.3]  , Label =  1\n",
      "Input =  [6.7 3.1 4.4 1.4]  , Label =  1\n",
      "Input =  [5.6 3.  4.5 1.5]  , Label =  1\n",
      "Input =  [5.8 2.7 4.1 1. ]  , Label =  1\n",
      "Input =  [6.2 2.2 4.5 1.5]  , Label =  1\n",
      "Input =  [5.6 2.5 3.9 1.1]  , Label =  1\n",
      "Input =  [5.9 3.2 4.8 1.8]  , Label =  1\n",
      "Input =  [6.1 2.8 4.  1.3]  , Label =  1\n",
      "Input =  [6.3 2.5 4.9 1.5]  , Label =  1\n",
      "Input =  [6.1 2.8 4.7 1.2]  , Label =  1\n",
      "Input =  [6.4 2.9 4.3 1.3]  , Label =  1\n",
      "Input =  [6.6 3.  4.4 1.4]  , Label =  1\n",
      "Input =  [6.8 2.8 4.8 1.4]  , Label =  1\n",
      "Input =  [6.7 3.  5.  1.7]  , Label =  1\n",
      "Input =  [6.  2.9 4.5 1.5]  , Label =  1\n",
      "Input =  [5.7 2.6 3.5 1. ]  , Label =  1\n",
      "Input =  [5.5 2.4 3.8 1.1]  , Label =  1\n",
      "Input =  [5.5 2.4 3.7 1. ]  , Label =  1\n",
      "Input =  [5.8 2.7 3.9 1.2]  , Label =  1\n",
      "Input =  [6.  2.7 5.1 1.6]  , Label =  1\n",
      "Input =  [5.4 3.  4.5 1.5]  , Label =  1\n",
      "Input =  [6.  3.4 4.5 1.6]  , Label =  1\n",
      "Input =  [6.7 3.1 4.7 1.5]  , Label =  1\n",
      "Input =  [6.3 2.3 4.4 1.3]  , Label =  1\n",
      "Input =  [5.6 3.  4.1 1.3]  , Label =  1\n",
      "Input =  [5.5 2.5 4.  1.3]  , Label =  1\n",
      "Input =  [5.5 2.6 4.4 1.2]  , Label =  1\n",
      "Input =  [6.1 3.  4.6 1.4]  , Label =  1\n",
      "Input =  [5.8 2.6 4.  1.2]  , Label =  1\n",
      "Input =  [5.  2.3 3.3 1. ]  , Label =  1\n",
      "Input =  [5.6 2.7 4.2 1.3]  , Label =  1\n",
      "Input =  [5.7 3.  4.2 1.2]  , Label =  1\n",
      "Input =  [5.7 2.9 4.2 1.3]  , Label =  1\n",
      "Input =  [6.2 2.9 4.3 1.3]  , Label =  1\n",
      "Input =  [5.1 2.5 3.  1.1]  , Label =  1\n",
      "Input =  [5.7 2.8 4.1 1.3]  , Label =  1\n",
      "Input =  [6.3 3.3 6.  2.5]  , Label =  2\n",
      "Input =  [5.8 2.7 5.1 1.9]  , Label =  2\n",
      "Input =  [7.1 3.  5.9 2.1]  , Label =  2\n",
      "Input =  [6.3 2.9 5.6 1.8]  , Label =  2\n",
      "Input =  [6.5 3.  5.8 2.2]  , Label =  2\n",
      "Input =  [7.6 3.  6.6 2.1]  , Label =  2\n",
      "Input =  [4.9 2.5 4.5 1.7]  , Label =  2\n",
      "Input =  [7.3 2.9 6.3 1.8]  , Label =  2\n",
      "Input =  [6.7 2.5 5.8 1.8]  , Label =  2\n",
      "Input =  [7.2 3.6 6.1 2.5]  , Label =  2\n",
      "Input =  [6.5 3.2 5.1 2. ]  , Label =  2\n",
      "Input =  [6.4 2.7 5.3 1.9]  , Label =  2\n",
      "Input =  [6.8 3.  5.5 2.1]  , Label =  2\n",
      "Input =  [5.7 2.5 5.  2. ]  , Label =  2\n",
      "Input =  [5.8 2.8 5.1 2.4]  , Label =  2\n",
      "Input =  [6.4 3.2 5.3 2.3]  , Label =  2\n",
      "Input =  [6.5 3.  5.5 1.8]  , Label =  2\n",
      "Input =  [7.7 3.8 6.7 2.2]  , Label =  2\n",
      "Input =  [7.7 2.6 6.9 2.3]  , Label =  2\n",
      "Input =  [6.  2.2 5.  1.5]  , Label =  2\n",
      "Input =  [6.9 3.2 5.7 2.3]  , Label =  2\n",
      "Input =  [5.6 2.8 4.9 2. ]  , Label =  2\n",
      "Input =  [7.7 2.8 6.7 2. ]  , Label =  2\n",
      "Input =  [6.3 2.7 4.9 1.8]  , Label =  2\n",
      "Input =  [6.7 3.3 5.7 2.1]  , Label =  2\n",
      "Input =  [7.2 3.2 6.  1.8]  , Label =  2\n",
      "Input =  [6.2 2.8 4.8 1.8]  , Label =  2\n",
      "Input =  [6.1 3.  4.9 1.8]  , Label =  2\n",
      "Input =  [6.4 2.8 5.6 2.1]  , Label =  2\n",
      "Input =  [7.2 3.  5.8 1.6]  , Label =  2\n",
      "Input =  [7.4 2.8 6.1 1.9]  , Label =  2\n",
      "Input =  [7.9 3.8 6.4 2. ]  , Label =  2\n",
      "Input =  [6.4 2.8 5.6 2.2]  , Label =  2\n",
      "Input =  [6.3 2.8 5.1 1.5]  , Label =  2\n",
      "Input =  [6.1 2.6 5.6 1.4]  , Label =  2\n",
      "Input =  [7.7 3.  6.1 2.3]  , Label =  2\n",
      "Input =  [6.3 3.4 5.6 2.4]  , Label =  2\n",
      "Input =  [6.4 3.1 5.5 1.8]  , Label =  2\n",
      "Input =  [6.  3.  4.8 1.8]  , Label =  2\n",
      "Input =  [6.9 3.1 5.4 2.1]  , Label =  2\n",
      "Input =  [6.7 3.1 5.6 2.4]  , Label =  2\n",
      "Input =  [6.9 3.1 5.1 2.3]  , Label =  2\n",
      "Input =  [5.8 2.7 5.1 1.9]  , Label =  2\n",
      "Input =  [6.8 3.2 5.9 2.3]  , Label =  2\n",
      "Input =  [6.7 3.3 5.7 2.5]  , Label =  2\n",
      "Input =  [6.7 3.  5.2 2.3]  , Label =  2\n",
      "Input =  [6.3 2.5 5.  1.9]  , Label =  2\n",
      "Input =  [6.5 3.  5.2 2. ]  , Label =  2\n",
      "Input =  [6.2 3.4 5.4 2.3]  , Label =  2\n",
      "Input =  [5.9 3.  5.1 1.8]  , Label =  2\n"
     ]
    }
   ],
   "source": [
    "import numpy as np\n",
    "\n",
    "from matplotlib import pyplot as plt\n",
    "from matplotlib.colors import ListedColormap\n",
    "\n",
    "from sklearn import preprocessing\n",
    "from sklearn.preprocessing import StandardScaler\n",
    "\n",
    "# Load Iris classification dataset\n",
    "from sklearn.datasets import load_iris\n",
    "iris = load_iris()\n",
    "\n",
    "# Print all 150 examples\n",
    "print(\"(Number_of_examples, example_size) = \", iris.data.shape, \"\\n\")\n",
    "for i in range(0, 150):\n",
    "    print('Input = ', iris.data[i], ' , Label = ', iris.target[i])"
   ]
  },
  {
   "cell_type": "markdown",
   "metadata": {},
   "source": [
    "**Building, training and evaluating a simple Decision Tree classifier**\n",
    "\n",
    "The SciKit-learn class for Decision Tree classifiers is sklearn.tree.DecisionTreeClassifier.\n",
    "\n",
    "**Please FIRST READ (and understand!) the [*DecisionTreeClassifier DOCUMENTATION*](http://scikit-learn.org/stable/modules/generated/sklearn.tree.DecisionTreeClassifier.html#sklearn.tree.DecisionTreeClassifier) to understand all parameters of the contructor.**\n",
    "\n",
    "**You can then begin by running the code block below, in which default set of parameter values has been used.** If graphical view works, look at the structure of the learnt decision tree.\n",
    "\n",
    "**Then, check the influence of MAIN parameters for Decision Tree classifier, i.e.:**\n",
    " - **homegeneity criterion ('gini' or 'entropy')**\n",
    " - **max_depth**\n",
    " - **min_samples_split**\n",
    " \n",
    "NB : Note that post-training *PRUNING* IS unfortunately *NOT* implemented in SciKit-Learn Decision-Trees :("
   ]
  },
  {
   "cell_type": "code",
   "execution_count": 2,
   "metadata": {},
   "outputs": [
    {
     "name": "stdout",
     "output_type": "stream",
     "text": [
      "DecisionTreeClassifier(criterion='entropy', max_depth=5)\n",
      "Acuracy (on test set) =  0.9333333333333333\n",
      "              precision    recall  f1-score   support\n",
      "\n",
      "           0       1.00      1.00      1.00        19\n",
      "           1       0.93      0.87      0.90        15\n",
      "           2       0.83      0.91      0.87        11\n",
      "\n",
      "    accuracy                           0.93        45\n",
      "   macro avg       0.92      0.93      0.92        45\n",
      "weighted avg       0.94      0.93      0.93        45\n",
      "\n",
      "\n",
      " CONFUSION MATRIX\n",
      "[[19  0  0]\n",
      " [ 0 13  2]\n",
      " [ 0  1 10]]\n"
     ]
    },
    {
     "data": {
      "image/png": "[encoded data removed]",
      "text/plain": [
       "<Figure size 640x480 with 1 Axes>"
      ]
     },
     "metadata": {},
     "output_type": "display_data"
    }
   ],
   "source": [
    "from sklearn.metrics import confusion_matrix\n",
    "from sklearn.metrics import classification_report\n",
    "from sklearn import tree\n",
    "from sklearn.model_selection import train_test_split\n",
    "\n",
    "# Split dataset into training and test part\n",
    "X_train, X_test, y_train, y_test = train_test_split(\n",
    "    iris.data, iris.target, test_size=0.3)\n",
    "\n",
    "# Learn a Decision Tree\n",
    "clf = tree.DecisionTreeClassifier(criterion='entropy', splitter='best', max_depth=5,\n",
    "                                  min_samples_split=2, min_samples_leaf=1,\n",
    "                                  min_weight_fraction_leaf=0.0, max_features=None,\n",
    "                                  random_state=None, max_leaf_nodes=None,\n",
    "                                  min_impurity_decrease=0.0, class_weight=None, ccp_alpha=0.0)\n",
    "clf = clf.fit(X_train, y_train)\n",
    "\n",
    "# Graphical view of learnt Decision Tree\n",
    "tree.plot_tree(clf)\n",
    "\n",
    "# Evaluate acuracy on test data\n",
    "print(clf)\n",
    "score = clf.score(X_test, y_test)\n",
    "print(\"Acuracy (on test set) = \", score)\n",
    "y_true, y_pred = y_test, clf.predict(X_test)\n",
    "print(classification_report(y_true, y_pred))\n",
    "print(\"\\n CONFUSION MATRIX\")\n",
    "print(confusion_matrix(y_true, y_pred))"
   ]
  },
  {
   "cell_type": "markdown",
   "metadata": {},
   "source": [
    "## 2. Decision Trees on a  MORE REALISTIC DATASET: HANDWRITTEN DIGITS\n",
    "\n",
    "**Please FIRST READ the [*Digits DATASET DESCRIPTION*](http://scikit-learn.org/stable/auto_examples/datasets/plot_digits_last_image.html#sphx-glr-auto-examples-datasets-plot-digits-last-image-py).**\n",
    "\n",
    "In this classification problem, there are 10 classes, with a total of 1797 examples (each one being a 64D vector corresponding to an 8x8 pixmap). Please **now execute code cell below to load the dataset, visualize a typical example, and train a Desicion Tree on it**. \n",
    "The original code uses a **voluntarily SUBOPTIMAL set of learning hyperparameters values, which reaches ~66% test acuracy. Try to play with them in order to improve acuracy.**\n"
   ]
  },
  {
   "cell_type": "code",
   "execution_count": 3,
   "metadata": {
    "scrolled": true
   },
   "outputs": [
    {
     "name": "stdout",
     "output_type": "stream",
     "text": [
      "Number_of-examples =  1797\n",
      "\n",
      " Plot of first example\n"
     ]
    },
    {
     "data": {
      "text/plain": [
       "<Figure size 640x480 with 0 Axes>"
      ]
     },
     "metadata": {},
     "output_type": "display_data"
    },
    {
     "data": {
      "image/png": "[encoded data removed]",
      "text/plain": [
       "<Figure size 480x480 with 1 Axes>"
      ]
     },
     "metadata": {},
     "output_type": "display_data"
    },
    {
     "name": "stdout",
     "output_type": "stream",
     "text": [
      "DecisionTreeClassifier(max_depth=5, min_samples_split=4)\n",
      "Acuracy (on test set) =  0.6540600667408232\n",
      "              precision    recall  f1-score   support\n",
      "\n",
      "           0       0.94      0.97      0.95        92\n",
      "           1       0.42      0.09      0.15        89\n",
      "           2       0.52      0.24      0.33        94\n",
      "           3       0.43      0.83      0.57        84\n",
      "           4       0.77      0.88      0.82        86\n",
      "           5       0.97      0.93      0.95        91\n",
      "           6       0.99      0.89      0.94        90\n",
      "           7       0.71      0.74      0.72        95\n",
      "           8       0.31      0.71      0.43        78\n",
      "           9       0.97      0.32      0.48       100\n",
      "\n",
      "    accuracy                           0.65       899\n",
      "   macro avg       0.70      0.66      0.63       899\n",
      "weighted avg       0.71      0.65      0.64       899\n",
      "\n",
      "\n",
      " CONFUSION MATRIX\n",
      "[[89  0  0  0  1  0  0  0  2  0]\n",
      " [ 0  8 19 12  4  1  0  3 42  0]\n",
      " [ 1  0 23  4  0  0  0  4 62  0]\n",
      " [ 0  0  1 70  0  0  0  5  7  1]\n",
      " [ 1  4  0  1 76  0  0  2  2  0]\n",
      " [ 1  0  0  4  1 85  0  0  0  0]\n",
      " [ 2  4  1  2  0  1 80  0  0  0]\n",
      " [ 0  2  0  2 15  0  0 70  6  0]\n",
      " [ 1  1  0 13  1  1  0  6 55  0]\n",
      " [ 0  0  0 55  1  0  1  9  2 32]]\n"
     ]
    }
   ],
   "source": [
    "from sklearn.metrics import confusion_matrix\n",
    "from sklearn.metrics import classification_report\n",
    "import matplotlib.pyplot as plt\n",
    "from sklearn.datasets import load_digits\n",
    "digits = load_digits()\n",
    "n_samples = len(digits.images)\n",
    "print(\"Number_of-examples = \", n_samples)\n",
    "\n",
    "print(\"\\n Plot of first example\")\n",
    "plt.gray()\n",
    "plt.matshow(digits.images[0])\n",
    "plt.show()\n",
    "\n",
    "# Flatten the images, to turn data in a (samples, feature) matrix:\n",
    "data = digits.images.reshape((n_samples, -1))\n",
    "\n",
    "# Split dataset into training and test part\n",
    "X = data\n",
    "y = digits.target\n",
    "X_train, X_test, y_train, y_test = train_test_split(X, y, test_size=0.5)\n",
    "\n",
    "# Create and train a Decision Tree Classifier\n",
    "clf = tree.DecisionTreeClassifier(criterion='gini', splitter='best', max_depth=5,\n",
    "                                  min_samples_split=4, min_samples_leaf=1,\n",
    "                                  min_weight_fraction_leaf=0.0, max_features=None,\n",
    "                                  random_state=None, max_leaf_nodes=None,\n",
    "                                  min_impurity_decrease=0.0, class_weight=None, ccp_alpha=0.0)\n",
    "clf = clf.fit(X_train, y_train)\n",
    "\n",
    "\n",
    "# Evaluate acuracy on test data\n",
    "print(clf)\n",
    "score = clf.score(X_test, y_test)\n",
    "print(\"Acuracy (on test set) = \", score)\n",
    "y_true, y_pred = y_test, clf.predict(X_test)\n",
    "print(classification_report(y_true, y_pred))\n",
    "print(\"\\n CONFUSION MATRIX\")\n",
    "print(confusion_matrix(y_true, y_pred))"
   ]
  },
  {
   "cell_type": "markdown",
   "metadata": {},
   "source": [
    "__Question: According to the confusion matrices, what digits are the most confused with each other?__\n",
    "\n",
    "__Answer:__"
   ]
  },
  {
   "cell_type": "markdown",
   "metadata": {},
   "source": [
    "**Finally, find somewhat optimized values for the set of 3 main hyper-parameters for DecisionTree learning, by using GRID-SEARCH WITH CROSS-VALIDATION** (see cross-validation example from the Multi-Layer Perceptron notebook used in earlier practical session). __Put the code in the cell below:__"
   ]
  },
  {
   "cell_type": "code",
   "execution_count": null,
   "metadata": {},
   "outputs": [],
   "source": [
    "\n",
    "\n"
   ]
  },
  {
   "cell_type": "markdown",
   "metadata": {},
   "source": [
    "__Question: What best value have you managed to reach for TEST accuracy of your DecisionTree after you properly gridSearched its hyper-parameters using CrossValidation?__\n",
    "\n",
    "__Answer:__\n",
    "\n",
    "\n",
    "In order to improve result, the most natural step is to combine SEVERAL decision trees, using the Ensemble model called Random Forest: see below"
   ]
  },
  {
   "cell_type": "markdown",
   "metadata": {},
   "source": [
    "## 3. Building, training and evaluating a Random Forest classifier\n",
    "\n",
    "The SciKit-learn class for Random Forest classifiers is sklearn.ensemble.RandomForestClassifier.\n",
    "\n",
    "**Please FIRST READ (and understand!) the [*RandomForestClassifier DOCUMENTATION*](http://scikit-learn.org/stable/modules/generated/sklearn.ensemble.RandomForestClassifier.html) to understand all parameters of the contructor.**\n",
    "\n",
    "**Then you can begin by running the code block below, in which default set of parameter values has been used.** As you will see, a RandomForest (even rather small) can easily outperform single Decision Tree. \n",
    "\n",
    "**Then, check the influence of MAIN parameters for Random Forest classifier, i.e.:**\n",
    " - **n_estimators (number of trees in forest)**\n",
    " - **max_depth**\n",
    " - **max_features (max number of features used in each tree)**\n"
   ]
  },
  {
   "cell_type": "code",
   "execution_count": 4,
   "metadata": {},
   "outputs": [
    {
     "name": "stdout",
     "output_type": "stream",
     "text": [
      "n_estimators= 10  max_depth= None  max_features= sqrt\n",
      "RandomForestClassifier(n_estimators=10, n_jobs=1)\n",
      "Acuracy (on test set) =  0.9410456062291435\n",
      "              precision    recall  f1-score   support\n",
      "\n",
      "           0       0.99      0.99      0.99        92\n",
      "           1       0.85      0.99      0.92        89\n",
      "           2       0.95      0.95      0.95        94\n",
      "           3       0.89      0.89      0.89        84\n",
      "           4       0.97      0.99      0.98        86\n",
      "           5       0.96      0.98      0.97        91\n",
      "           6       1.00      0.99      0.99        90\n",
      "           7       0.95      0.95      0.95        95\n",
      "           8       0.88      0.86      0.87        78\n",
      "           9       0.98      0.83      0.90       100\n",
      "\n",
      "    accuracy                           0.94       899\n",
      "   macro avg       0.94      0.94      0.94       899\n",
      "weighted avg       0.94      0.94      0.94       899\n",
      "\n",
      "\n",
      " CONFUSION MATRIX\n",
      "[[91  0  0  0  0  0  0  0  1  0]\n",
      " [ 0 88  1  0  0  0  0  0  0  0]\n",
      " [ 0  2 89  1  0  0  0  0  2  0]\n",
      " [ 0  1  0 75  0  1  0  2  4  1]\n",
      " [ 0  0  0  0 85  0  0  0  1  0]\n",
      " [ 0  0  0  1  0 89  0  0  0  1]\n",
      " [ 0  1  0  0  0  0 89  0  0  0]\n",
      " [ 0  4  0  0  1  0  0 90  0  0]\n",
      " [ 0  4  3  1  1  1  0  1 67  0]\n",
      " [ 1  3  1  6  1  2  0  2  1 83]]\n"
     ]
    }
   ],
   "source": [
    "from sklearn.metrics import confusion_matrix\n",
    "from sklearn.metrics import classification_report\n",
    "from sklearn.ensemble import RandomForestClassifier\n",
    "\n",
    "# Create and train a Random Forest classifier\n",
    "clf = RandomForestClassifier(n_estimators=10, criterion='gini', max_depth=None,\n",
    "                             min_samples_split=2, min_samples_leaf=1,\n",
    "                             min_weight_fraction_leaf=0.0, max_features='sqrt',\n",
    "                             max_leaf_nodes=None, min_impurity_decrease=0.0, bootstrap=True,\n",
    "                             oob_score=False, n_jobs=1, random_state=None,\n",
    "                             verbose=0, warm_start=False, class_weight=None, ccp_alpha=0.0)\n",
    "\n",
    "clf = clf.fit(X_train, y_train)\n",
    "print(\"n_estimators=\", clf.n_estimators, \" max_depth=\", clf.max_depth,\n",
    "      \" max_features=\", clf.max_features)\n",
    "\n",
    "# Evaluate acuracy on test data\n",
    "print(clf)\n",
    "score = clf.score(X_test, y_test)\n",
    "print(\"Acuracy (on test set) = \", score)\n",
    "y_true, y_pred = y_test, clf.predict(X_test)\n",
    "print(classification_report(y_true, y_pred))\n",
    "print(\"\\n CONFUSION MATRIX\")\n",
    "print(confusion_matrix(y_true, y_pred))"
   ]
  },
  {
   "cell_type": "markdown",
   "metadata": {},
   "source": [
    "**Finally, find somewhat optimized values the set of 3 main hyper-parameters for RandomForest, by using CROSS-VALIDATION** (see cross-validation example from the Multi-Layer Perceptron notebook used in earlier practical session). __Put the code in the cell below:__"
   ]
  },
  {
   "cell_type": "code",
   "execution_count": null,
   "metadata": {},
   "outputs": [],
   "source": [
    "\n",
    "\n",
    "\n"
   ]
  },
  {
   "cell_type": "markdown",
   "metadata": {},
   "source": [
    "__Question: What best value have you managed to reach for TEST accuracy of your RandomForest after you properly gridSearched its hyper-parameters using CrossValidation?__\n",
    "\n",
    "__Answer:__"
   ]
  },
  {
   "cell_type": "markdown",
   "metadata": {
    "collapsed": true,
    "jupyter": {
     "outputs_hidden": true
    }
   },
   "source": [
    "## 3. Building, training and evaluating an AdaBoost classifier\n",
    "\n",
    "The SciKit-learn class for adaBoost is sklearn.ensemble.AdaBoostClassifier.\n",
    "\n",
    "**Please FIRST READ (and understand!) the [*AdaBoostClassifier DOCUMENTATION*](http://scikit-learn.org/stable/modules/generated/sklearn.ensemble.AdaBoostClassifier.html#sklearn.ensemble.AdaBoostClassifier) to understand all parameters of the contructor.**\n",
    "\n",
    "**Then begin by running the code block below, in which a default set of parameter values has been used.** \n",
    "\n",
    "**Then, check the influence of MAIN parameters for adaBoost classifier, i.e.:**\n",
    " - **estimator (ie type of Weak Classifier/Learner)** \n",
    " - **n_estimators (number of boosting iterations, and therefore also number of weak classifiers)**\n",
    " - algorithm\n",
    " \n",
    "**Finally, check which other types of classifiers can be used as Weak Classifier with the adaBoost implementation of SciKit-Learn.**\n",
    "NB: in principle it is possible to use MLP classifiers as weak classifiers, but not with SciKit-learn implementation of MLPClassifier (because weighting of examples is not handled by its implementation)."
   ]
  },
  {
   "cell_type": "code",
   "execution_count": 6,
   "metadata": {},
   "outputs": [
    {
     "ename": "AttributeError",
     "evalue": "'AdaBoostClassifier' object has no attribute 'bestimator'",
     "output_type": "error",
     "traceback": [
      "\u001b[1;31m---------------------------------------------------------------------------\u001b[0m",
      "\u001b[1;31mAttributeError\u001b[0m                            Traceback (most recent call last)",
      "Cell \u001b[1;32mIn[6], line 8\u001b[0m\n\u001b[0;32m      5\u001b[0m clf \u001b[38;5;241m=\u001b[39m AdaBoostClassifier(weak_learner, n_estimators\u001b[38;5;241m=\u001b[39m\u001b[38;5;241m15\u001b[39m, learning_rate\u001b[38;5;241m=\u001b[39m\u001b[38;5;241m1.0\u001b[39m, algorithm\u001b[38;5;241m=\u001b[39m\u001b[38;5;124m'\u001b[39m\u001b[38;5;124mSAMME\u001b[39m\u001b[38;5;124m'\u001b[39m, \n\u001b[0;32m      6\u001b[0m                          random_state\u001b[38;5;241m=\u001b[39m\u001b[38;5;28;01mNone\u001b[39;00m)\n\u001b[0;32m      7\u001b[0m clf \u001b[38;5;241m=\u001b[39m clf\u001b[38;5;241m.\u001b[39mfit(X_train, y_train)\n\u001b[1;32m----> 8\u001b[0m \u001b[38;5;28mprint\u001b[39m(\u001b[38;5;124m\"\u001b[39m\u001b[38;5;124mWeak_learner:\u001b[39m\u001b[38;5;124m\"\u001b[39m, clf\u001b[38;5;241m.\u001b[39mbestimator)\n\u001b[0;32m      9\u001b[0m \u001b[38;5;28mprint\u001b[39m(\u001b[38;5;124m\"\u001b[39m\u001b[38;5;124mWeights of weak classifiers: \u001b[39m\u001b[38;5;124m\"\u001b[39m, clf\u001b[38;5;241m.\u001b[39mestimator_weights_)\n\u001b[0;32m     11\u001b[0m \u001b[38;5;66;03m# Plot training curves (error = f(iterations))\u001b[39;00m\n",
      "\u001b[1;31mAttributeError\u001b[0m: 'AdaBoostClassifier' object has no attribute 'bestimator'"
     ]
    }
   ],
   "source": [
    "from sklearn.metrics import confusion_matrix\n",
    "from sklearn.metrics import classification_report\n",
    "from sklearn.metrics import zero_one_loss\n",
    "from sklearn.ensemble import AdaBoostClassifier\n",
    "\n",
    "# Create and train an adaBoost classifier using SMALL Decision Trees as weak classifiers\n",
    "weak_learner = tree.DecisionTreeClassifier(max_depth=6)\n",
    "clf = AdaBoostClassifier(weak_learner, n_estimators=15, learning_rate=1.0, algorithm='SAMME',\n",
    "                         random_state=None)\n",
    "clf = clf.fit(X_train, y_train)\n",
    "print(\"Weak_learner:\", clf.estimator)\n",
    "print(\"Weights of weak classifiers: \", clf.estimator_weights_)\n",
    "\n",
    "# Plot training curves (error = f(iterations))\n",
    "n_iter = clf.n_estimators\n",
    "ada_train_err = np.zeros((clf.n_estimators,))\n",
    "for i, y_pred in enumerate(clf.staged_predict(X_train)):\n",
    "    ada_train_err[i] = zero_one_loss(y_pred, y_train)\n",
    "ada_test_err = np.zeros((clf.n_estimators,))\n",
    "for i, y_pred in enumerate(clf.staged_predict(X_test)):\n",
    "    ada_test_err[i] = zero_one_loss(y_pred, y_test)\n",
    "fig = plt.figure()\n",
    "ax = fig.add_subplot(111)\n",
    "ax.plot(np.arange(n_iter) + 1, ada_train_err,\n",
    "        label='Training Error',\n",
    "        color='green')\n",
    "ax.plot(np.arange(n_iter) + 1, ada_test_err,\n",
    "        label='Test Error',\n",
    "        color='orange')\n",
    "ax.set_ylim((0.0, 0.5))\n",
    "ax.set_xlabel('boosting iterations')\n",
    "ax.set_ylabel('error rate')\n",
    "leg = ax.legend(loc='upper right', fancybox=True)\n",
    "plt.show()\n",
    "\n",
    "# Evaluate acuracy on test data\n",
    "print(\"n_estimators=\", clf.n_estimators)\n",
    "score = clf.score(X_test, y_test)\n",
    "print(\"Acuracy (on test set) = \", score)\n",
    "y_true, y_pred = y_test, clf.predict(X_test)\n",
    "print(classification_report(y_true, y_pred))\n",
    "print(\"\\n CONFUSION MATRIX\")\n",
    "print(confusion_matrix(y_true, y_pred))"
   ]
  },
  {
   "cell_type": "markdown",
   "metadata": {},
   "source": [
    "__Question:__ Looking at the training curves, you can see that **training error goes down to zero rather quickly, but that test_error still continues, after training error is zero, to diminish with increasing iterations**. __Is it normal, and why?__ (check the course!)\n",
    "\n",
    "__Answer:__"
   ]
  },
  {
   "cell_type": "markdown",
   "metadata": {},
   "source": [
    "**Now, for the case of _DecisionTree_ weak classifiers, find somewhat optimized values of (max_depth, n_estimators) by using CROSS-VALIDATION.** __Put the code below:__"
   ]
  },
  {
   "cell_type": "code",
   "execution_count": null,
   "metadata": {},
   "outputs": [],
   "source": [
    "\n",
    "\n",
    "\n"
   ]
  },
  {
   "cell_type": "markdown",
   "metadata": {},
   "source": [
    "__Question: What best value have you managed to reach for TEST accuracy of your AdaboostClassifier after you properly gridSearched its hyper-parameters using CrossValidation?__\n",
    "\n",
    "__Answer:__"
   ]
  }
 ],
 "metadata": {
  "kernelspec": {
   "display_name": "cours",
   "language": "python",
   "name": "python3"
  },
  "language_info": {
   "codemirror_mode": {
    "name": "ipython",
    "version": 3
   },
   "file_extension": ".py",
   "mimetype": "text/x-python",
   "name": "python",
   "nbconvert_exporter": "python",
   "pygments_lexer": "ipython3",
   "version": "3.11.5"
  }
 },
 "nbformat": 4,
 "nbformat_minor": 4
}
